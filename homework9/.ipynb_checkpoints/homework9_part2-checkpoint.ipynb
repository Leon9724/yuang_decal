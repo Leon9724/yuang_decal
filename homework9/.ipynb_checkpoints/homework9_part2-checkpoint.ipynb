{
 "cells": [
  {
   "cell_type": "code",
   "execution_count": 18,
   "id": "d9c9d543-88c9-4211-923f-82eff8dfa967",
   "metadata": {},
   "outputs": [],
   "source": [
    "import pandas as pd\n",
    "import numpy as np\n",
    "from scipy.optimize import curve_fit\n",
    "import matplotlib.pyplot as plt\n",
    "\n",
    "df = pd.read_csv('GlobalLandTemperaturesByState.csv')"
   ]
  },
  {
   "cell_type": "code",
   "execution_count": 5,
   "id": "ef8e426e-ce0c-4158-95a3-57b917b82126",
   "metadata": {},
   "outputs": [],
   "source": [
    "df = df[['dt', 'AverageTemperature', 'State']]\n",
    "df['dt'] = pd.to_datetime(df['dt'])\n",
    "df = df[df['dt'].dt.year > 2000]\n",
    "\n",
    "states_filtered = ['Wyoming', 'Nebraska', 'South Dakota']\n",
    "df_filtered = df[df['State'].isin(states_filtered)]\n",
    "\n",
    "df_avg_temp_by_date = df_filtered.groupby('dt')['AverageTemperature'].mean().reset_index()\n",
    "df_avg_temp_by_date.columns = ['Date', 'AverageTemperature']"
   ]
  },
  {
   "cell_type": "code",
   "execution_count": 7,
   "id": "848d7912-2cfa-4cdc-b9e2-d2e1d155f09b",
   "metadata": {},
   "outputs": [
    {
     "name": "stdout",
     "output_type": "stream",
     "text": [
      "        Date  AverageTemperature  DateNumeric\n",
      "0 2001-01-01           -4.480333          0.0\n",
      "1 2001-02-01           -7.541000         31.0\n",
      "2 2001-03-01            0.590333         59.0\n",
      "3 2001-04-01            7.889000         90.0\n",
      "4 2001-05-01           13.908667        120.0\n"
     ]
    }
   ],
   "source": [
    "df_avg_temp_by_date['DateNumeric'] = (\n",
    "    df_avg_temp_by_date['Date'] - df_avg_temp_by_date['Date'].min()\n",
    ").dt.total_seconds() / (60 * 60 * 24)\n",
    "\n",
    "print(df_avg_temp_by_date.head())"
   ]
  },
  {
   "cell_type": "code",
   "execution_count": 9,
   "id": "18c095dc-d162-4567-aef3-74ff00b2f2b8",
   "metadata": {},
   "outputs": [],
   "source": [
    "# 1.5\n",
    "def model(x, a, b, c, d):\n",
    "    return a * np.cos(b * x + c) + d"
   ]
  },
  {
   "cell_type": "code",
   "execution_count": 20,
   "id": "0bd71495-2cd0-44fe-98fd-78ab16fd039b",
   "metadata": {},
   "outputs": [
    {
     "name": "stdout",
     "output_type": "stream",
     "text": [
      "Fitted parameters: [-13.89833572   0.0172016   -0.04649516   8.17492408]\n"
     ]
    }
   ],
   "source": [
    "# 1.6\n",
    "x_data = df_avg_temp_by_date['DateNumeric'].values\n",
    "y_data = df_avg_temp_by_date['AverageTemperature'].values\n",
    "initial_guess = [10, 2 * np.pi / 365, 0, 10]\n",
    "params, covariance = curve_fit(model, x_data, y_data, p0=initial_guess)\n",
    "df_avg_temp_by_date['FittedTemperature'] = model(x_data, *params)\n",
    "print(\"Fitted parameters:\", params)\n"
   ]
  },
  {
   "cell_type": "code",
   "execution_count": null,
   "id": "3311a19e-5526-471e-a83c-ff125ca188a4",
   "metadata": {},
   "outputs": [],
   "source": []
  }
 ],
 "metadata": {
  "kernelspec": {
   "display_name": "Python [conda env:base] *",
   "language": "python",
   "name": "conda-base-py"
  },
  "language_info": {
   "codemirror_mode": {
    "name": "ipython",
    "version": 3
   },
   "file_extension": ".py",
   "mimetype": "text/x-python",
   "name": "python",
   "nbconvert_exporter": "python",
   "pygments_lexer": "ipython3",
   "version": "3.12.7"
  }
 },
 "nbformat": 4,
 "nbformat_minor": 5
}
